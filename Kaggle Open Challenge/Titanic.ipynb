{
 "cells": [
  {
   "cell_type": "code",
   "execution_count": 56,
   "id": "c0661c58-d365-4c0c-8a51-9d3f25dc42f0",
   "metadata": {},
   "outputs": [],
   "source": [
    "import numpy as np\n",
    "import scipy\n",
    "import pandas as pd\n",
    "import seaborn as sb\n",
    "import matplotlib.pyplot as plt\n",
    "from scipy.stats import *\n",
    "import math\n",
    "\n",
    "\n",
    "from sklearn.pipeline import make_pipeline\n",
    "from sklearn.model_selection import GridSearchCV, train_test_split\n",
    "from scipy.stats import *\n",
    "from sklearn.metrics import*\n",
    "from sklearn.preprocessing import *\n",
    "from sklearn.decomposition import PCA\n",
    "from scipy.cluster.hierarchy import linkage,dendrogram \n",
    "\n",
    "from sklearn import tree\n",
    "from sklearn.linear_model import LogisticRegression\n",
    "from sklearn.tree import DecisionTreeClassifier\n",
    "from sklearn.ensemble import RandomForestClassifier\n",
    "from sklearn.ensemble import *\n",
    "from sklearn.neighbors import KNeighborsClassifier\n",
    "from sklearn.feature_selection import SequentialFeatureSelector, RFE\n",
    "from sklearn.svm import SVC\n",
    "\n",
    "from sklearn.model_selection import cross_val_score, StratifiedKFold, KFold, RepeatedKFold, GridSearchCV"
   ]
  },
  {
   "cell_type": "markdown",
   "id": "ad3c96ca-cb05-4de5-95fd-481d89d9ac57",
   "metadata": {},
   "source": [
    "Since this is a binary classification problem(supervised), we will consider the following models: LogisticRegression, Random Forest Classifiers, KNN classifier and Support Vector Multiplier. We will use cross validation(mean accuracy) to evaluate the model and use gridsearchCV, RandomizedSearchCV to find the best tuned hyperparameters for each model. The first step is to filter the data such that we can eliminate correlation and pick the most useful features by check importance.\n"
   ]
  },
  {
   "cell_type": "code",
   "execution_count": 3,
   "id": "d3b83efc-8d5e-4f42-a126-eafd15629d8d",
   "metadata": {},
   "outputs": [],
   "source": [
    "# import the data sets\n",
    "df = pd.read_csv('/Users/qinshaofeng/Desktop/titanic/train.csv')"
   ]
  },
  {
   "cell_type": "code",
   "execution_count": 67,
   "id": "336396ac-8248-48b9-ae3b-50658ce95c07",
   "metadata": {},
   "outputs": [
    {
     "name": "stdout",
     "output_type": "stream",
     "text": [
      "Index(['PassengerId', 'Survived', 'Pclass', 'Name', 'Sex', 'Age', 'SibSp',\n",
      "       'Parch', 'Ticket', 'Fare', 'Cabin', 'Embarked'],\n",
      "      dtype='object')\n"
     ]
    }
   ],
   "source": [
    "# transform sex to 0/1\n",
    "le = LabelEncoder()\n",
    "df[\"Sex\"] = le.fit_transform(df[\"Sex\"])\n",
    "df[\"Age\"] = df[\"Age\"].fillna((df[\"Age\"].mean()))\n",
    "print(df.columns)\n"
   ]
  },
  {
   "cell_type": "code",
   "execution_count": 11,
   "id": "d7e4e40c-da16-4c28-81cf-8098eaff0a85",
   "metadata": {},
   "outputs": [],
   "source": [
    "# discard string names, passenger and ticket numbers, embarked since they are not quite relevant with our prediction\n",
    "# I also ignore the Cabin since there are too many NaN in it\n",
    "X = df[['Pclass', 'Sex', 'Age', 'SibSp',\n",
    "       'Parch', 'Fare']]\n",
    "y = df['Survived']\n",
    "# note X, y are our training set already, no need to split"
   ]
  },
  {
   "cell_type": "code",
   "execution_count": 30,
   "id": "c6c97d71-ea47-4700-aa44-9007f19beecf",
   "metadata": {},
   "outputs": [
    {
     "data": {
      "text/plain": [
       "array([ True,  True, False, False,  True,  True])"
      ]
     },
     "execution_count": 30,
     "metadata": {},
     "output_type": "execute_result"
    }
   ],
   "source": [
    "# feature selection: forward and backward; \n",
    "#check for knn\n",
    "knn = KNeighborsClassifier()\n",
    "sfs = SequentialFeatureSelector(knn, direction = 'forward', n_features_to_select=4)\n",
    "sfs.fit(X, y)\n",
    "\n",
    "sfs.get_support()"
   ]
  },
  {
   "cell_type": "code",
   "execution_count": 31,
   "id": "7e8a840d-32b4-436c-a97d-e9ab2b77786a",
   "metadata": {},
   "outputs": [
    {
     "data": {
      "text/plain": [
       "array([ True,  True,  True, False,  True, False])"
      ]
     },
     "execution_count": 31,
     "metadata": {},
     "output_type": "execute_result"
    }
   ],
   "source": [
    "# feature selection: forward and backward; \n",
    "#check for knn\n",
    "knn = KNeighborsClassifier()\n",
    "sfs = SequentialFeatureSelector(knn, direction = 'backward', n_features_to_select=4)\n",
    "sfs.fit(X, y)\n",
    "sfs.get_support()"
   ]
  },
  {
   "cell_type": "code",
   "execution_count": 32,
   "id": "c97a877d-e8c4-4e1b-b866-f3ec544e53e4",
   "metadata": {},
   "outputs": [
    {
     "data": {
      "text/plain": [
       "array([ True,  True,  True, False, False,  True])"
      ]
     },
     "execution_count": 32,
     "metadata": {},
     "output_type": "execute_result"
    }
   ],
   "source": [
    "# try for random forest\n",
    "\n",
    "rdf = RandomForestClassifier()\n",
    "sfs = SequentialFeatureSelector(rdf, direction = 'backward', n_features_to_select=4)\n",
    "sfs.fit(X, y)\n",
    "sfs.get_support()\n"
   ]
  },
  {
   "cell_type": "code",
   "execution_count": 33,
   "id": "ca0af813-e32e-4c4f-b698-3aa810536efb",
   "metadata": {},
   "outputs": [
    {
     "data": {
      "text/plain": [
       "array([ True,  True,  True, False, False,  True])"
      ]
     },
     "execution_count": 33,
     "metadata": {},
     "output_type": "execute_result"
    }
   ],
   "source": [
    "rdf = RandomForestClassifier()\n",
    "sfs = SequentialFeatureSelector(rdf, direction = 'forward', n_features_to_select=4)\n",
    "sfs.fit(X, y)\n",
    "sfs.get_support()"
   ]
  },
  {
   "cell_type": "code",
   "execution_count": 34,
   "id": "2842aa2d-f11a-406f-8c45-f6aeb59f125d",
   "metadata": {},
   "outputs": [
    {
     "data": {
      "text/plain": [
       "array([ True,  True, False,  True,  True, False])"
      ]
     },
     "execution_count": 34,
     "metadata": {},
     "output_type": "execute_result"
    }
   ],
   "source": [
    "# feature selection: forward and backward; \n",
    "#check for knn\n",
    "lgr = LogisticRegression()\n",
    "sfs = SequentialFeatureSelector(lgr, direction = 'backward',n_features_to_select=4)\n",
    "sfs.fit(X, y)\n",
    "sfs.get_support()"
   ]
  },
  {
   "cell_type": "code",
   "execution_count": 36,
   "id": "f8a73e67-a3b7-428b-a1e2-261e9cb827b2",
   "metadata": {},
   "outputs": [
    {
     "data": {
      "text/plain": [
       "array([ True,  True, False,  True,  True, False])"
      ]
     },
     "execution_count": 36,
     "metadata": {},
     "output_type": "execute_result"
    }
   ],
   "source": [
    "# feature selection: forward and backward; \n",
    "#check for knn\n",
    "lgr = LogisticRegression()\n",
    "sfs = SequentialFeatureSelector(lgr, direction = 'forward',n_features_to_select=4)\n",
    "sfs.fit(X, y)\n",
    "sfs.get_support()"
   ]
  },
  {
   "cell_type": "code",
   "execution_count": 72,
   "id": "658bc74c-5557-4185-9819-6abce98c5d39",
   "metadata": {},
   "outputs": [],
   "source": [
    "# based on the vote above, we select \n",
    "X = df[['Pclass', 'Sex', 'Age','Parch', 'Fare']]\n",
    "Y = df['Survived']\n",
    "X_test = pd.read_csv('/Users/qinshaofeng/Desktop/titanic/test.csv')\n",
    "ID = X_test['PassengerId']"
   ]
  },
  {
   "cell_type": "code",
   "execution_count": 73,
   "id": "2e99f2c1-f246-4b89-bf8f-699dbe4b2e05",
   "metadata": {},
   "outputs": [],
   "source": [
    "# load the testing set\n",
    "X_test = X_test[['Pclass', 'Sex', 'Age','Parch', 'Fare']]\n",
    "le = LabelEncoder()\n",
    "X_test[\"Sex\"] = le.fit_transform(X_test[\"Sex\"])\n",
    "X_test[\"Age\"] = X_test[\"Age\"].fillna((X_test[\"Age\"].mean()))\n",
    "X_test[\"Fare\"] = X_test[\"Fare\"].fillna((X_test[\"Fare\"].mean()))\n"
   ]
  },
  {
   "cell_type": "code",
   "execution_count": 38,
   "id": "3a43fd16-2326-47d1-953c-6367ab548fb1",
   "metadata": {},
   "outputs": [
    {
     "data": {
      "text/plain": [
       "RandomForestClassifier(max_leaf_nodes=50, n_estimators=120, random_state=20)"
      ]
     },
     "execution_count": 38,
     "metadata": {},
     "output_type": "execute_result"
    }
   ],
   "source": [
    "# use different models and find the best tunned parameters\n",
    "# Random forest\n",
    "leaf_nodes = np.arange(50, 200, 20)\n",
    "n_trees = np.arange(100, 300,20)\n",
    "param_grid = {'n_estimators':n_trees, 'max_leaf_nodes':leaf_nodes}\n",
    "clf = RandomForestClassifier(random_state = 20)\n",
    "grid_clf = GridSearchCV(clf, param_grid, cv=10, scoring = 'accuracy')\n",
    "grid_clf.fit(X, y)\n",
    "grid_clf.best_estimator_ "
   ]
  },
  {
   "cell_type": "code",
   "execution_count": 76,
   "id": "c8904347-bb0a-4a39-90e5-3ad113f1a50b",
   "metadata": {},
   "outputs": [
    {
     "name": "stdout",
     "output_type": "stream",
     "text": [
      "     PassengerId  Survived\n",
      "0            892         0\n",
      "1            893         0\n",
      "2            894         0\n",
      "3            895         0\n",
      "4            896         1\n",
      "..           ...       ...\n",
      "413         1305         0\n",
      "414         1306         1\n",
      "415         1307         0\n",
      "416         1308         0\n",
      "417         1309         0\n",
      "\n",
      "[418 rows x 2 columns]\n"
     ]
    }
   ],
   "source": [
    "X = df[['Pclass', 'Sex', 'Age','Parch', 'Fare']]\n",
    "Y = df['Survived']\n",
    "rdf = RandomForestClassifier(max_leaf_nodes=50, n_estimators=120, random_state=20)\n",
    "rdf.fit(X,y)\n",
    "rdf_prediction = rdf.predict(X_test)\n",
    "rdf_result = pd.DataFrame({'PassengerId': ID, 'Survived': rdf_prediction})\n",
    "rdf_result.to_csv('/Users/qinshaofeng/Desktop/titanic/rdf_report.csv')\n",
    "#print(\"with tuned random forest classifer\\n prediction is: {}\".format(rdf_prediction))\n",
    "print(rdf_result)"
   ]
  },
  {
   "cell_type": "code",
   "execution_count": 52,
   "id": "b75c6260-d461-462c-8d50-73abc7aff42e",
   "metadata": {},
   "outputs": [
    {
     "name": "stderr",
     "output_type": "stream",
     "text": [
      "/Users/qinshaofeng/opt/anaconda3/lib/python3.9/site-packages/sklearn/model_selection/_validation.py:615: FitFailedWarning: Estimator fit failed. The score on this train-test partition for these parameters will be set to nan. Details: \n",
      "Traceback (most recent call last):\n",
      "  File \"/Users/qinshaofeng/opt/anaconda3/lib/python3.9/site-packages/sklearn/model_selection/_validation.py\", line 598, in _fit_and_score\n",
      "    estimator.fit(X_train, y_train, **fit_params)\n",
      "  File \"/Users/qinshaofeng/opt/anaconda3/lib/python3.9/site-packages/sklearn/neighbors/_classification.py\", line 179, in fit\n",
      "    return self._fit(X, y)\n",
      "  File \"/Users/qinshaofeng/opt/anaconda3/lib/python3.9/site-packages/sklearn/neighbors/_base.py\", line 514, in _fit\n",
      "    raise ValueError(\n",
      "ValueError: Expected n_neighbors > 0. Got 0\n",
      "\n",
      "  warnings.warn(\"Estimator fit failed. The score on this train-test\"\n",
      "/Users/qinshaofeng/opt/anaconda3/lib/python3.9/site-packages/sklearn/model_selection/_validation.py:615: FitFailedWarning: Estimator fit failed. The score on this train-test partition for these parameters will be set to nan. Details: \n",
      "Traceback (most recent call last):\n",
      "  File \"/Users/qinshaofeng/opt/anaconda3/lib/python3.9/site-packages/sklearn/model_selection/_validation.py\", line 598, in _fit_and_score\n",
      "    estimator.fit(X_train, y_train, **fit_params)\n",
      "  File \"/Users/qinshaofeng/opt/anaconda3/lib/python3.9/site-packages/sklearn/neighbors/_classification.py\", line 179, in fit\n",
      "    return self._fit(X, y)\n",
      "  File \"/Users/qinshaofeng/opt/anaconda3/lib/python3.9/site-packages/sklearn/neighbors/_base.py\", line 514, in _fit\n",
      "    raise ValueError(\n",
      "ValueError: Expected n_neighbors > 0. Got 0\n",
      "\n",
      "  warnings.warn(\"Estimator fit failed. The score on this train-test\"\n",
      "/Users/qinshaofeng/opt/anaconda3/lib/python3.9/site-packages/sklearn/model_selection/_validation.py:615: FitFailedWarning: Estimator fit failed. The score on this train-test partition for these parameters will be set to nan. Details: \n",
      "Traceback (most recent call last):\n",
      "  File \"/Users/qinshaofeng/opt/anaconda3/lib/python3.9/site-packages/sklearn/model_selection/_validation.py\", line 598, in _fit_and_score\n",
      "    estimator.fit(X_train, y_train, **fit_params)\n",
      "  File \"/Users/qinshaofeng/opt/anaconda3/lib/python3.9/site-packages/sklearn/neighbors/_classification.py\", line 179, in fit\n",
      "    return self._fit(X, y)\n",
      "  File \"/Users/qinshaofeng/opt/anaconda3/lib/python3.9/site-packages/sklearn/neighbors/_base.py\", line 514, in _fit\n",
      "    raise ValueError(\n",
      "ValueError: Expected n_neighbors > 0. Got 0\n",
      "\n",
      "  warnings.warn(\"Estimator fit failed. The score on this train-test\"\n",
      "/Users/qinshaofeng/opt/anaconda3/lib/python3.9/site-packages/sklearn/model_selection/_validation.py:615: FitFailedWarning: Estimator fit failed. The score on this train-test partition for these parameters will be set to nan. Details: \n",
      "Traceback (most recent call last):\n",
      "  File \"/Users/qinshaofeng/opt/anaconda3/lib/python3.9/site-packages/sklearn/model_selection/_validation.py\", line 598, in _fit_and_score\n",
      "    estimator.fit(X_train, y_train, **fit_params)\n",
      "  File \"/Users/qinshaofeng/opt/anaconda3/lib/python3.9/site-packages/sklearn/neighbors/_classification.py\", line 179, in fit\n",
      "    return self._fit(X, y)\n",
      "  File \"/Users/qinshaofeng/opt/anaconda3/lib/python3.9/site-packages/sklearn/neighbors/_base.py\", line 514, in _fit\n",
      "    raise ValueError(\n",
      "ValueError: Expected n_neighbors > 0. Got 0\n",
      "\n",
      "  warnings.warn(\"Estimator fit failed. The score on this train-test\"\n",
      "/Users/qinshaofeng/opt/anaconda3/lib/python3.9/site-packages/sklearn/model_selection/_validation.py:615: FitFailedWarning: Estimator fit failed. The score on this train-test partition for these parameters will be set to nan. Details: \n",
      "Traceback (most recent call last):\n",
      "  File \"/Users/qinshaofeng/opt/anaconda3/lib/python3.9/site-packages/sklearn/model_selection/_validation.py\", line 598, in _fit_and_score\n",
      "    estimator.fit(X_train, y_train, **fit_params)\n",
      "  File \"/Users/qinshaofeng/opt/anaconda3/lib/python3.9/site-packages/sklearn/neighbors/_classification.py\", line 179, in fit\n",
      "    return self._fit(X, y)\n",
      "  File \"/Users/qinshaofeng/opt/anaconda3/lib/python3.9/site-packages/sklearn/neighbors/_base.py\", line 514, in _fit\n",
      "    raise ValueError(\n",
      "ValueError: Expected n_neighbors > 0. Got 0\n",
      "\n",
      "  warnings.warn(\"Estimator fit failed. The score on this train-test\"\n",
      "/Users/qinshaofeng/opt/anaconda3/lib/python3.9/site-packages/sklearn/model_selection/_validation.py:615: FitFailedWarning: Estimator fit failed. The score on this train-test partition for these parameters will be set to nan. Details: \n",
      "Traceback (most recent call last):\n",
      "  File \"/Users/qinshaofeng/opt/anaconda3/lib/python3.9/site-packages/sklearn/model_selection/_validation.py\", line 598, in _fit_and_score\n",
      "    estimator.fit(X_train, y_train, **fit_params)\n",
      "  File \"/Users/qinshaofeng/opt/anaconda3/lib/python3.9/site-packages/sklearn/neighbors/_classification.py\", line 179, in fit\n",
      "    return self._fit(X, y)\n",
      "  File \"/Users/qinshaofeng/opt/anaconda3/lib/python3.9/site-packages/sklearn/neighbors/_base.py\", line 514, in _fit\n",
      "    raise ValueError(\n",
      "ValueError: Expected n_neighbors > 0. Got 0\n",
      "\n",
      "  warnings.warn(\"Estimator fit failed. The score on this train-test\"\n",
      "/Users/qinshaofeng/opt/anaconda3/lib/python3.9/site-packages/sklearn/model_selection/_validation.py:615: FitFailedWarning: Estimator fit failed. The score on this train-test partition for these parameters will be set to nan. Details: \n",
      "Traceback (most recent call last):\n",
      "  File \"/Users/qinshaofeng/opt/anaconda3/lib/python3.9/site-packages/sklearn/model_selection/_validation.py\", line 598, in _fit_and_score\n",
      "    estimator.fit(X_train, y_train, **fit_params)\n",
      "  File \"/Users/qinshaofeng/opt/anaconda3/lib/python3.9/site-packages/sklearn/neighbors/_classification.py\", line 179, in fit\n",
      "    return self._fit(X, y)\n",
      "  File \"/Users/qinshaofeng/opt/anaconda3/lib/python3.9/site-packages/sklearn/neighbors/_base.py\", line 514, in _fit\n",
      "    raise ValueError(\n",
      "ValueError: Expected n_neighbors > 0. Got 0\n",
      "\n",
      "  warnings.warn(\"Estimator fit failed. The score on this train-test\"\n",
      "/Users/qinshaofeng/opt/anaconda3/lib/python3.9/site-packages/sklearn/model_selection/_validation.py:615: FitFailedWarning: Estimator fit failed. The score on this train-test partition for these parameters will be set to nan. Details: \n",
      "Traceback (most recent call last):\n",
      "  File \"/Users/qinshaofeng/opt/anaconda3/lib/python3.9/site-packages/sklearn/model_selection/_validation.py\", line 598, in _fit_and_score\n",
      "    estimator.fit(X_train, y_train, **fit_params)\n",
      "  File \"/Users/qinshaofeng/opt/anaconda3/lib/python3.9/site-packages/sklearn/neighbors/_classification.py\", line 179, in fit\n",
      "    return self._fit(X, y)\n",
      "  File \"/Users/qinshaofeng/opt/anaconda3/lib/python3.9/site-packages/sklearn/neighbors/_base.py\", line 514, in _fit\n",
      "    raise ValueError(\n",
      "ValueError: Expected n_neighbors > 0. Got 0\n",
      "\n",
      "  warnings.warn(\"Estimator fit failed. The score on this train-test\"\n",
      "/Users/qinshaofeng/opt/anaconda3/lib/python3.9/site-packages/sklearn/model_selection/_validation.py:615: FitFailedWarning: Estimator fit failed. The score on this train-test partition for these parameters will be set to nan. Details: \n",
      "Traceback (most recent call last):\n",
      "  File \"/Users/qinshaofeng/opt/anaconda3/lib/python3.9/site-packages/sklearn/model_selection/_validation.py\", line 598, in _fit_and_score\n",
      "    estimator.fit(X_train, y_train, **fit_params)\n",
      "  File \"/Users/qinshaofeng/opt/anaconda3/lib/python3.9/site-packages/sklearn/neighbors/_classification.py\", line 179, in fit\n",
      "    return self._fit(X, y)\n",
      "  File \"/Users/qinshaofeng/opt/anaconda3/lib/python3.9/site-packages/sklearn/neighbors/_base.py\", line 514, in _fit\n",
      "    raise ValueError(\n",
      "ValueError: Expected n_neighbors > 0. Got 0\n",
      "\n",
      "  warnings.warn(\"Estimator fit failed. The score on this train-test\"\n",
      "/Users/qinshaofeng/opt/anaconda3/lib/python3.9/site-packages/sklearn/model_selection/_validation.py:615: FitFailedWarning: Estimator fit failed. The score on this train-test partition for these parameters will be set to nan. Details: \n",
      "Traceback (most recent call last):\n",
      "  File \"/Users/qinshaofeng/opt/anaconda3/lib/python3.9/site-packages/sklearn/model_selection/_validation.py\", line 598, in _fit_and_score\n",
      "    estimator.fit(X_train, y_train, **fit_params)\n",
      "  File \"/Users/qinshaofeng/opt/anaconda3/lib/python3.9/site-packages/sklearn/neighbors/_classification.py\", line 179, in fit\n",
      "    return self._fit(X, y)\n",
      "  File \"/Users/qinshaofeng/opt/anaconda3/lib/python3.9/site-packages/sklearn/neighbors/_base.py\", line 514, in _fit\n",
      "    raise ValueError(\n",
      "ValueError: Expected n_neighbors > 0. Got 0\n",
      "\n",
      "  warnings.warn(\"Estimator fit failed. The score on this train-test\"\n",
      "/Users/qinshaofeng/opt/anaconda3/lib/python3.9/site-packages/sklearn/model_selection/_search.py:922: UserWarning: One or more of the test scores are non-finite: [       nan 0.69364544 0.70600499 0.7139201  0.70715356 0.69707865\n",
      " 0.68696629 0.71724095 0.689201   0.70942572 0.69709114 0.69148564\n",
      " 0.68808989 0.69257179 0.70494382 0.69596754 0.70158552 0.70494382\n",
      " 0.70269663 0.70491885]\n",
      "  warnings.warn(\n"
     ]
    },
    {
     "data": {
      "text/plain": [
       "KNeighborsClassifier(n_neighbors=7)"
      ]
     },
     "execution_count": 52,
     "metadata": {},
     "output_type": "execute_result"
    }
   ],
   "source": [
    "neighbors = np.arange(0,20)\n",
    "param_grid = {'n_neighbors': neighbors}\n",
    "clf = KNeighborsClassifier()\n",
    "grid_clf = GridSearchCV(clf, param_grid, cv=10, scoring = 'accuracy')\n",
    "grid_clf.fit(X,y)\n",
    "grid_clf.best_estimator_ "
   ]
  },
  {
   "cell_type": "code",
   "execution_count": 77,
   "id": "5698ae1e-4bf4-44bb-9bfe-07d4d5191eba",
   "metadata": {},
   "outputs": [
    {
     "name": "stdout",
     "output_type": "stream",
     "text": [
      "with KNN classifer\n",
      " prediction is: [0 0 0 0 0 0 1 1 0 1 0 0 1 0 1 1 0 0 1 0 0 1 1 1 1 0 1 0 1 0 1 1 1 1 1 0 0\n",
      " 0 0 1 0 0 0 1 1 0 0 0 1 1 1 0 1 1 0 0 0 0 0 1 0 1 0 1 1 0 0 0 1 1 0 0 1 0\n",
      " 1 1 0 0 1 0 1 1 1 0 0 0 1 1 1 1 0 0 1 0 0 0 1 0 0 0 1 1 0 0 1 1 0 0 0 0 0\n",
      " 1 1 0 1 0 0 1 1 0 1 0 1 0 0 0 0 1 0 0 0 0 0 0 0 0 0 0 1 0 0 1 1 1 0 0 0 0\n",
      " 0 0 1 0 0 0 0 0 1 1 0 0 1 1 0 0 0 0 0 0 0 0 0 0 0 0 0 0 0 1 0 1 1 1 1 0 1\n",
      " 0 0 0 0 0 1 0 1 0 0 0 1 0 0 0 1 1 1 0 0 0 0 0 1 0 1 0 0 0 0 0 1 1 1 0 0 0\n",
      " 0 0 0 1 0 1 0 0 1 1 0 0 1 0 1 0 0 0 0 0 1 0 0 1 0 0 0 0 1 0 1 0 0 0 0 0 0\n",
      " 0 1 0 1 1 1 0 0 0 0 0 1 0 1 1 0 1 0 0 0 0 0 1 1 1 1 0 0 1 0 0 0 1 0 1 0 0\n",
      " 1 0 0 0 0 0 0 0 1 0 1 1 0 0 0 0 0 0 1 0 1 0 0 1 0 0 0 1 1 0 0 1 1 0 0 0 0\n",
      " 0 0 0 1 0 1 0 0 0 0 1 0 1 0 0 0 0 1 0 0 1 1 1 1 0 0 1 0 0 0 0 1 0 0 0 1 0\n",
      " 0 1 0 0 1 1 0 0 1 0 0 0 0 0 1 1 0 0 0 1 1 0 0 0 0 1 0 1 0 0 1 0 1 0 0 0 0\n",
      " 1 1 1 1 1 0 0 1 0 0 1]\n"
     ]
    }
   ],
   "source": [
    "# best neighbors = 7\n",
    "knn= KNeighborsClassifier(n_neighbors = 7)\n",
    "knn.fit(X,y)\n",
    "knn_prediction = knn.predict(X_test)\n",
    "knn_result = pd.DataFrame({'PassengerId': ID, 'Survived': knn_prediction})\n",
    "knn_result.to_csv('/Users/qinshaofeng/Desktop/titanic/knn_report.csv')\n",
    "print(\"with KNN classifer\\n prediction is: {}\".format(knn_prediction))"
   ]
  },
  {
   "cell_type": "code",
   "execution_count": 79,
   "id": "ece9f136-5cb6-4c98-91fc-491b712d74fd",
   "metadata": {},
   "outputs": [
    {
     "name": "stdout",
     "output_type": "stream",
     "text": [
      "with logistic regression classifer\n",
      " prediction is: [0 0 0 0 1 0 1 0 1 0 0 0 1 0 1 1 0 0 1 0 0 0 1 1 1 0 1 0 0 0 0 0 0 0 0 0 1\n",
      " 1 0 0 0 0 0 1 1 0 0 0 1 0 1 0 1 1 0 0 0 0 0 1 0 0 0 1 1 1 1 0 0 1 1 0 1 0\n",
      " 1 1 0 1 0 1 0 0 0 0 0 0 1 1 1 0 1 0 1 0 1 0 1 0 1 0 1 0 0 0 1 0 0 0 0 0 0\n",
      " 1 1 1 1 0 0 1 0 1 1 0 1 0 0 1 0 1 0 0 0 0 0 0 0 0 0 0 1 0 1 1 0 0 0 0 0 0\n",
      " 0 0 1 0 0 0 0 0 1 1 0 1 1 0 1 0 0 1 0 0 1 1 0 0 0 0 0 1 1 0 1 1 0 0 1 0 1\n",
      " 0 1 0 0 0 0 0 0 0 0 0 1 1 0 1 1 0 0 1 0 0 1 0 1 0 0 0 0 1 0 0 1 0 1 0 1 0\n",
      " 1 0 1 0 0 1 0 0 0 1 0 0 0 0 0 0 1 1 1 1 0 0 0 0 1 0 1 1 1 0 1 0 0 0 0 0 1\n",
      " 0 0 0 1 1 0 0 0 0 1 0 0 0 1 1 0 1 0 0 0 0 1 0 1 1 1 0 0 1 0 0 0 1 0 0 0 0\n",
      " 1 0 0 0 0 0 0 0 1 1 0 0 0 0 0 0 0 1 1 1 0 0 0 0 0 0 0 0 1 0 1 0 0 0 1 0 0\n",
      " 1 0 0 0 0 0 0 0 0 0 1 0 1 0 1 0 1 1 0 0 0 1 0 1 0 0 1 0 1 1 0 1 0 0 1 1 0\n",
      " 0 1 0 0 1 1 1 0 0 0 0 0 1 1 0 1 0 0 0 0 1 1 0 0 0 1 0 1 0 0 1 0 1 1 0 0 0\n",
      " 0 1 1 1 1 1 0 1 0 0 0]\n"
     ]
    }
   ],
   "source": [
    "lgr = LogisticRegression()\n",
    "lgr.fit(X,y)\n",
    "lgr_prediction = lgr.predict(X_test)\n",
    "print(\"with logistic regression classifer\\n prediction is: {}\".format(lgr_prediction))\n",
    "lgr_result = pd.DataFrame({'PassengerId': ID, 'Survived': lgr_prediction})\n",
    "lgr_result.to_csv('/Users/qinshaofeng/Desktop/titanic/lgr_report.csv')"
   ]
  },
  {
   "cell_type": "code",
   "execution_count": 65,
   "id": "97117aac-dc08-4c96-bb63-cffcd7a06f9b",
   "metadata": {},
   "outputs": [
    {
     "data": {
      "text/plain": [
       "SVC()"
      ]
     },
     "execution_count": 65,
     "metadata": {},
     "output_type": "execute_result"
    }
   ],
   "source": [
    "degree = [3,4,5,6,7,8]\n",
    "param_grid = {'degree':degree}\n",
    "grid_clf = GridSearchCV(clf, param_grid, cv=10, scoring = 'accuracy')\n",
    "grid_clf.fit(X,y)\n",
    "grid_clf.best_estimator_ "
   ]
  },
  {
   "cell_type": "code",
   "execution_count": 80,
   "id": "6ebd0bf6-dd9d-4bf4-a196-56d4fd4c4ea5",
   "metadata": {},
   "outputs": [
    {
     "name": "stdout",
     "output_type": "stream",
     "text": [
      "with SVM classifer\n",
      " prediction is: [0 0 0 0 0 0 0 0 0 0 0 0 1 0 1 0 0 0 0 0 1 0 0 1 1 0 1 0 0 0 0 0 0 0 1 0 0\n",
      " 0 0 1 0 0 0 0 0 0 0 0 1 0 1 0 0 1 0 0 0 0 0 1 0 0 0 0 1 0 0 0 0 1 0 0 0 0\n",
      " 1 1 0 0 0 0 0 1 0 0 0 0 0 0 0 0 0 0 1 0 0 0 1 0 0 0 1 0 0 0 0 0 0 0 0 0 0\n",
      " 0 0 0 1 0 0 0 1 0 0 0 1 0 0 0 0 0 0 0 0 0 0 0 0 0 0 0 0 0 0 1 1 0 0 0 1 0\n",
      " 0 0 1 0 0 0 0 0 1 0 0 0 0 0 0 0 0 0 0 0 0 0 0 0 0 0 0 0 0 0 0 1 0 1 1 0 1\n",
      " 0 0 0 1 0 0 0 0 0 0 0 1 0 0 0 0 0 1 0 0 0 0 0 0 0 0 0 1 0 0 0 0 1 1 0 0 0\n",
      " 0 0 0 0 0 0 0 0 1 0 0 0 1 0 1 0 0 1 0 0 1 0 0 0 0 0 0 0 0 0 1 0 0 0 0 0 0\n",
      " 0 0 0 0 0 0 0 0 0 0 0 1 0 1 0 0 0 0 0 0 0 0 0 0 0 0 0 0 1 0 0 0 0 0 1 0 0\n",
      " 1 0 0 0 0 0 0 0 0 0 1 0 1 0 0 0 0 0 1 0 1 0 0 0 0 0 0 0 1 0 0 1 0 0 0 0 0\n",
      " 0 0 0 0 0 0 0 0 0 1 1 0 0 0 0 0 0 1 0 1 1 0 0 0 0 0 0 1 0 0 0 1 1 0 0 1 0\n",
      " 0 1 0 0 1 1 0 0 0 0 0 0 0 0 0 1 0 0 0 0 1 0 0 0 0 1 0 1 0 0 1 0 1 0 0 0 0\n",
      " 1 0 0 0 1 0 0 1 0 0 0]\n"
     ]
    }
   ],
   "source": [
    "# tuned SVC is the default with degree of 3, kernel is using 'rbf'\n",
    "svm = SVC()\n",
    "svm.fit(X,y)\n",
    "svm_prediction = svm.predict(X_test)\n",
    "svm_result = pd.DataFrame({'PassengerId': ID, 'Survived': svm_prediction})\n",
    "svm_result.to_csv('/Users/qinshaofeng/Desktop/titanic/svm_report.csv')\n",
    "print(\"with SVM classifer\\n prediction is: {}\".format(svm_prediction))"
   ]
  },
  {
   "cell_type": "code",
   "execution_count": null,
   "id": "2d594585-5a03-45b3-8a32-935e6e020b55",
   "metadata": {},
   "outputs": [],
   "source": []
  },
  {
   "cell_type": "code",
   "execution_count": null,
   "id": "99de8ba9-5252-4356-9d3a-100501ea60c8",
   "metadata": {},
   "outputs": [],
   "source": []
  },
  {
   "cell_type": "code",
   "execution_count": null,
   "id": "399f92e0-5896-49af-8c86-0f6214028265",
   "metadata": {},
   "outputs": [],
   "source": []
  },
  {
   "cell_type": "code",
   "execution_count": null,
   "id": "d984d4a7-a44d-4bba-9157-553cffd18482",
   "metadata": {},
   "outputs": [],
   "source": []
  }
 ],
 "metadata": {
  "kernelspec": {
   "display_name": "Python 3 (ipykernel)",
   "language": "python",
   "name": "python3"
  },
  "language_info": {
   "codemirror_mode": {
    "name": "ipython",
    "version": 3
   },
   "file_extension": ".py",
   "mimetype": "text/x-python",
   "name": "python",
   "nbconvert_exporter": "python",
   "pygments_lexer": "ipython3",
   "version": "3.9.7"
  }
 },
 "nbformat": 4,
 "nbformat_minor": 5
}
